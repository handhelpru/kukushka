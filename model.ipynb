{
 "cells": [
  {
   "cell_type": "code",
   "execution_count": 1,
   "id": "74dc7473-3156-4e42-8e1a-95e6e63924bb",
   "metadata": {},
   "outputs": [
    {
     "name": "stderr",
     "output_type": "stream",
     "text": [
      "2022-02-13 15:46:44,511 INFO __init__ Loading dictionaries from /home/tonko22/kukushka/venv/lib/python3.8/site-packages/pymorphy2_dicts_ru/data\n",
      "2022-02-13 15:46:44,616 INFO __init__ format: 2.4, revision: 417127, updated: 2020-10-11T15:05:51.070345\n"
     ]
    }
   ],
   "source": [
    "%load_ext autoreload\n",
    "%autoreload 2\n",
    "import random\n",
    "import html_parser\n",
    "import ner\n",
    "import psycopg2\n",
    "import pandas as pd\n",
    "import glob\n",
    "import numpy as np\n",
    "from tqdm import tqdm\n",
    "from names_parser import NameParser\n",
    "import db\n",
    "import regex_patterns\n",
    "from features import map_article_to_size\n",
    "tqdm.pandas()"
   ]
  },
  {
   "cell_type": "code",
   "execution_count": 2,
   "id": "1a87e475-2a29-4634-bbd6-44d0cc6e7f8b",
   "metadata": {},
   "outputs": [
    {
     "name": "stdout",
     "output_type": "stream",
     "text": [
      "46842\n"
     ]
    },
    {
     "data": {
      "text/html": [
       "<div>\n",
       "<style scoped>\n",
       "    .dataframe tbody tr th:only-of-type {\n",
       "        vertical-align: middle;\n",
       "    }\n",
       "\n",
       "    .dataframe tbody tr th {\n",
       "        vertical-align: top;\n",
       "    }\n",
       "\n",
       "    .dataframe thead th {\n",
       "        text-align: right;\n",
       "    }\n",
       "</style>\n",
       "<table border=\"1\" class=\"dataframe\">\n",
       "  <thead>\n",
       "    <tr style=\"text-align: right;\">\n",
       "      <th></th>\n",
       "      <th>encode</th>\n",
       "      <th>case_year_result</th>\n",
       "      <th>conviction</th>\n",
       "      <th>region_label</th>\n",
       "      <th>drug_label</th>\n",
       "      <th>punishment_type_label</th>\n",
       "      <th>general_drug_amount_label</th>\n",
       "    </tr>\n",
       "  </thead>\n",
       "  <tbody>\n",
       "    <tr>\n",
       "      <th>271509</th>\n",
       "      <td>5ce34e191509ed1a580ed509f48b83f9</td>\n",
       "      <td>2019</td>\n",
       "      <td>False</td>\n",
       "      <td>74</td>\n",
       "      <td>6</td>\n",
       "      <td>1</td>\n",
       "      <td>1</td>\n",
       "    </tr>\n",
       "    <tr>\n",
       "      <th>271510</th>\n",
       "      <td>fb81962b58c96c09a99dd051b8a0cdd2</td>\n",
       "      <td>2019</td>\n",
       "      <td>False</td>\n",
       "      <td>74</td>\n",
       "      <td>6</td>\n",
       "      <td>1</td>\n",
       "      <td>1</td>\n",
       "    </tr>\n",
       "  </tbody>\n",
       "</table>\n",
       "</div>"
      ],
      "text/plain": [
       "                                  encode  case_year_result conviction  \\\n",
       "271509  5ce34e191509ed1a580ed509f48b83f9              2019      False   \n",
       "271510  fb81962b58c96c09a99dd051b8a0cdd2              2019      False   \n",
       "\n",
       "        region_label  drug_label  punishment_type_label  \\\n",
       "271509            74           6                      1   \n",
       "271510            74           6                      1   \n",
       "\n",
       "        general_drug_amount_label  \n",
       "271509                          1  \n",
       "271510                          1  "
      ]
     },
     "execution_count": 2,
     "metadata": {},
     "output_type": "execute_result"
    }
   ],
   "source": [
    "df = pd.read_pickle(\"df_features.pkl\")\n",
    "print(len(df))\n",
    "df.head(2)"
   ]
  },
  {
   "cell_type": "code",
   "execution_count": 5,
   "id": "d534d377-2c42-41ab-b97c-481ab0cbce24",
   "metadata": {},
   "outputs": [],
   "source": [
    "df['conviction'] = df['conviction'].map({True: 1, False: 0})"
   ]
  },
  {
   "cell_type": "code",
   "execution_count": 6,
   "id": "03c35337-dfae-4380-9487-fdf928cec38b",
   "metadata": {},
   "outputs": [
    {
     "data": {
      "text/plain": [
       "84"
      ]
     },
     "execution_count": 6,
     "metadata": {},
     "output_type": "execute_result"
    }
   ],
   "source": [
    "len(df['region_label'].unique())"
   ]
  },
  {
   "cell_type": "code",
   "execution_count": 7,
   "id": "d6d328c2-229c-42cd-8f11-e4b8be72963d",
   "metadata": {},
   "outputs": [
    {
     "name": "stdout",
     "output_type": "stream",
     "text": [
      "encode                       object\n",
      "case_year_result              int64\n",
      "conviction                    int64\n",
      "region_label                  int64\n",
      "drug_label                    int64\n",
      "punishment_type_label         int64\n",
      "general_drug_amount_label     int64\n",
      "dtype: object\n"
     ]
    }
   ],
   "source": [
    "print(df.dtypes)"
   ]
  },
  {
   "cell_type": "code",
   "execution_count": 48,
   "id": "9dec8e6c-a1d2-423d-a140-d11deb2afb13",
   "metadata": {
    "jupyter": {
     "source_hidden": true
    },
    "tags": []
   },
   "outputs": [
    {
     "data": {
      "text/plain": [
       "((46842, 4), (46842, 1))"
      ]
     },
     "execution_count": 91,
     "metadata": {},
     "output_type": "execute_result"
    }
   ],
   "source": [
    "y = df[\"punishment_type_label\"].values.reshape(-1, 1)\n",
    "X = df[['conviction', 'region_label', 'drug_label', 'general_drug_amount_label']].values\n",
    "X.shape, y.shape"
   ]
  },
  {
   "cell_type": "code",
   "execution_count": 8,
   "id": "d8e0f249-0741-4766-968e-f533001441c6",
   "metadata": {},
   "outputs": [
    {
     "data": {
      "text/plain": [
       "46842"
      ]
     },
     "execution_count": 8,
     "metadata": {},
     "output_type": "execute_result"
    }
   ],
   "source": [
    "len(df)"
   ]
  },
  {
   "cell_type": "code",
   "execution_count": 3,
   "id": "50086e38-1ee3-42a2-be98-dbc290b75e4a",
   "metadata": {},
   "outputs": [],
   "source": [
    "from sklearn.linear_model import LogisticRegression"
   ]
  },
  {
   "cell_type": "code",
   "execution_count": 11,
   "id": "fc16462d-14f0-4835-b055-235bdbe34d1f",
   "metadata": {},
   "outputs": [],
   "source": [
    "from sklearn.model_selection import train_test_split\n",
    "\n",
    "X = df[[\"conviction\", \"region_label\", \"drug_label\",\"general_drug_amount_label\"]]\n",
    "y = df['punishment_type_label'].values.reshape(-1, 1)\n",
    "X_train, X_test, y_train, y_test = train_test_split(X, y, test_size=0.33, random_state=42)"
   ]
  },
  {
   "cell_type": "code",
   "execution_count": 12,
   "id": "1b117ad9-76fa-4a2a-923f-ad16a42ed7f5",
   "metadata": {},
   "outputs": [
    {
     "name": "stderr",
     "output_type": "stream",
     "text": [
      "/home/tonko22/kukushka/venv/lib/python3.8/site-packages/sklearn/utils/validation.py:993: DataConversionWarning: A column-vector y was passed when a 1d array was expected. Please change the shape of y to (n_samples, ), for example using ravel().\n",
      "  y = column_or_1d(y, warn=True)\n"
     ]
    },
    {
     "data": {
      "text/plain": [
       "LogisticRegression(max_iter=10000)"
      ]
     },
     "execution_count": 12,
     "metadata": {},
     "output_type": "execute_result"
    }
   ],
   "source": [
    "clf = LogisticRegression(max_iter=10000)\n",
    "clf.fit(X_train, y_train)"
   ]
  },
  {
   "cell_type": "code",
   "execution_count": 13,
   "id": "a4d05251-5855-4366-8666-d9d3a3089478",
   "metadata": {},
   "outputs": [],
   "source": [
    "y_pred = clf.predict(X_test)"
   ]
  },
  {
   "cell_type": "code",
   "execution_count": 14,
   "id": "e2cd6485-02a7-4294-b7a8-0cfd4c9c809c",
   "metadata": {},
   "outputs": [
    {
     "data": {
      "text/plain": [
       "0.9997154708404548"
      ]
     },
     "execution_count": 14,
     "metadata": {},
     "output_type": "execute_result"
    }
   ],
   "source": [
    "from sklearn.metrics import  f1_score\n",
    "from sklearn.metrics import r2_score\n",
    "\n",
    "f1_score(y_test, y_pred, average='weighted')"
   ]
  },
  {
   "cell_type": "code",
   "execution_count": 15,
   "id": "bf1b4233-0d20-4a31-b435-79dbe0bd30fd",
   "metadata": {},
   "outputs": [
    {
     "data": {
      "text/plain": [
       "0.9997412343123302"
      ]
     },
     "execution_count": 15,
     "metadata": {},
     "output_type": "execute_result"
    }
   ],
   "source": [
    "f1_score(y_test, y_pred, average='micro')"
   ]
  },
  {
   "cell_type": "code",
   "execution_count": 16,
   "id": "6181714e-9829-48f3-82b3-568ec246c06b",
   "metadata": {},
   "outputs": [
    {
     "data": {
      "text/plain": [
       "0.9497814685314685"
      ]
     },
     "execution_count": 16,
     "metadata": {},
     "output_type": "execute_result"
    }
   ],
   "source": [
    "f1_score(y_test, y_pred, average='macro')"
   ]
  },
  {
   "cell_type": "code",
   "execution_count": 17,
   "id": "b95923b2-ffd8-4293-8657-956b78104953",
   "metadata": {},
   "outputs": [
    {
     "data": {
      "text/plain": [
       "0.9998481338112069"
      ]
     },
     "execution_count": 17,
     "metadata": {},
     "output_type": "execute_result"
    }
   ],
   "source": [
    "r2_score(y_test, y_pred)"
   ]
  },
  {
   "cell_type": "code",
   "execution_count": 87,
   "id": "d607b874-1a25-4aa5-a2f9-f3be4ffeb49e",
   "metadata": {},
   "outputs": [
    {
     "name": "stderr",
     "output_type": "stream",
     "text": [
      "/home/tonko22/kukushka/venv/lib/python3.8/site-packages/sklearn/utils/deprecation.py:87: FutureWarning: Function plot_confusion_matrix is deprecated; Function `plot_confusion_matrix` is deprecated in 1.0 and will be removed in 1.2. Use one of the class methods: ConfusionMatrixDisplay.from_predictions or ConfusionMatrixDisplay.from_estimator.\n",
      "  warnings.warn(msg, category=FutureWarning)\n"
     ]
    },
    {
     "data": {
      "text/plain": [
       "<sklearn.metrics._plot.confusion_matrix.ConfusionMatrixDisplay at 0x7fd6ab451280>"
      ]
     },
     "execution_count": 87,
     "metadata": {},
     "output_type": "execute_result"
    },
    {
     "data": {
      "image/png": "[encoded data removed]",
      "text/plain": [
       "<Figure size 432x288 with 2 Axes>"
      ]
     },
     "metadata": {
      "needs_background": "light"
     },
     "output_type": "display_data"
    }
   ],
   "source": [
    "import logging\n",
    "logger = logging.getLogger()\n",
    "logger.setLevel(logging.CRITICAL)\n",
    "from sklearn.metrics import plot_confusion_matrix\n",
    "\n",
    "plot_confusion_matrix(clf, X_test, y_test)"
   ]
  },
  {
   "cell_type": "code",
   "execution_count": null,
   "id": "02b7c54a-c011-461f-9052-5918ca403939",
   "metadata": {},
   "outputs": [],
   "source": []
  },
  {
   "cell_type": "code",
   "execution_count": null,
   "id": "a5bd1bf4-1ad5-4e7d-acff-75e0a77295e0",
   "metadata": {},
   "outputs": [],
   "source": []
  },
  {
   "cell_type": "code",
   "execution_count": 44,
   "id": "b97dbfa7-0a4f-403f-9218-63ba34e13930",
   "metadata": {},
   "outputs": [
    {
     "name": "stdout",
     "output_type": "stream",
     "text": [
      "[nan nan nan nan nan]\n",
      "nan nan\n"
     ]
    },
    {
     "name": "stderr",
     "output_type": "stream",
     "text": [
      "/home/tonko22/kukushka/venv/lib/python3.8/site-packages/xgboost/sklearn.py:1224: UserWarning: The use of label encoder in XGBClassifier is deprecated and will be removed in a future release. To remove this warning, do the following: 1) Pass option use_label_encoder=False when constructing XGBClassifier object; and 2) Encode your labels (y) as integers starting with 0, i.e. 0, 1, 2, ..., [num_class - 1].\n",
      "  warnings.warn(label_encoder_deprecation_msg, UserWarning)\n",
      "/home/tonko22/kukushka/venv/lib/python3.8/site-packages/sklearn/preprocessing/_label.py:98: DataConversionWarning: A column-vector y was passed when a 1d array was expected. Please change the shape of y to (n_samples, ), for example using ravel().\n",
      "  y = column_or_1d(y, warn=True)\n",
      "/home/tonko22/kukushka/venv/lib/python3.8/site-packages/xgboost/sklearn.py:1224: UserWarning: The use of label encoder in XGBClassifier is deprecated and will be removed in a future release. To remove this warning, do the following: 1) Pass option use_label_encoder=False when constructing XGBClassifier object; and 2) Encode your labels (y) as integers starting with 0, i.e. 0, 1, 2, ..., [num_class - 1].\n",
      "  warnings.warn(label_encoder_deprecation_msg, UserWarning)\n",
      "/home/tonko22/kukushka/venv/lib/python3.8/site-packages/sklearn/preprocessing/_label.py:98: DataConversionWarning: A column-vector y was passed when a 1d array was expected. Please change the shape of y to (n_samples, ), for example using ravel().\n",
      "  y = column_or_1d(y, warn=True)\n",
      "/home/tonko22/kukushka/venv/lib/python3.8/site-packages/xgboost/sklearn.py:1224: UserWarning: The use of label encoder in XGBClassifier is deprecated and will be removed in a future release. To remove this warning, do the following: 1) Pass option use_label_encoder=False when constructing XGBClassifier object; and 2) Encode your labels (y) as integers starting with 0, i.e. 0, 1, 2, ..., [num_class - 1].\n",
      "  warnings.warn(label_encoder_deprecation_msg, UserWarning)\n",
      "/home/tonko22/kukushka/venv/lib/python3.8/site-packages/sklearn/preprocessing/_label.py:98: DataConversionWarning: A column-vector y was passed when a 1d array was expected. Please change the shape of y to (n_samples, ), for example using ravel().\n",
      "  y = column_or_1d(y, warn=True)\n",
      "/home/tonko22/kukushka/venv/lib/python3.8/site-packages/xgboost/sklearn.py:1224: UserWarning: The use of label encoder in XGBClassifier is deprecated and will be removed in a future release. To remove this warning, do the following: 1) Pass option use_label_encoder=False when constructing XGBClassifier object; and 2) Encode your labels (y) as integers starting with 0, i.e. 0, 1, 2, ..., [num_class - 1].\n",
      "  warnings.warn(label_encoder_deprecation_msg, UserWarning)\n",
      "/home/tonko22/kukushka/venv/lib/python3.8/site-packages/sklearn/preprocessing/_label.py:98: DataConversionWarning: A column-vector y was passed when a 1d array was expected. Please change the shape of y to (n_samples, ), for example using ravel().\n",
      "  y = column_or_1d(y, warn=True)\n",
      "/home/tonko22/kukushka/venv/lib/python3.8/site-packages/xgboost/sklearn.py:1224: UserWarning: The use of label encoder in XGBClassifier is deprecated and will be removed in a future release. To remove this warning, do the following: 1) Pass option use_label_encoder=False when constructing XGBClassifier object; and 2) Encode your labels (y) as integers starting with 0, i.e. 0, 1, 2, ..., [num_class - 1].\n",
      "  warnings.warn(label_encoder_deprecation_msg, UserWarning)\n",
      "/home/tonko22/kukushka/venv/lib/python3.8/site-packages/sklearn/preprocessing/_label.py:98: DataConversionWarning: A column-vector y was passed when a 1d array was expected. Please change the shape of y to (n_samples, ), for example using ravel().\n",
      "  y = column_or_1d(y, warn=True)\n",
      "/home/tonko22/kukushka/venv/lib/python3.8/site-packages/sklearn/model_selection/_validation.py:372: FitFailedWarning: \n",
      "5 fits failed out of a total of 5.\n",
      "The score on these train-test partitions for these parameters will be set to nan.\n",
      "If these failures are not expected, you can try to debug them by setting error_score='raise'.\n",
      "\n",
      "Below are more details about the failures:\n",
      "--------------------------------------------------------------------------------\n",
      "5 fits failed with the following error:\n",
      "Traceback (most recent call last):\n",
      "  File \"/home/tonko22/kukushka/venv/lib/python3.8/site-packages/sklearn/model_selection/_validation.py\", line 680, in _fit_and_score\n",
      "    estimator.fit(X_train, y_train, **fit_params)\n",
      "  File \"/home/tonko22/kukushka/venv/lib/python3.8/site-packages/xgboost/core.py\", line 506, in inner_f\n",
      "    return f(**kwargs)\n",
      "  File \"/home/tonko22/kukushka/venv/lib/python3.8/site-packages/xgboost/sklearn.py\", line 1230, in fit\n",
      "    model, feval, params = self._configure_fit(xgb_model, eval_metric, params)\n",
      "  File \"/home/tonko22/kukushka/venv/lib/python3.8/site-packages/xgboost/sklearn.py\", line 654, in _configure_fit\n",
      "    raise ValueError(\n",
      "ValueError: Experimental support for categorical data is not implemented for current tree method yet.\n",
      "\n",
      "  warnings.warn(some_fits_failed_message, FitFailedWarning)\n"
     ]
    }
   ],
   "source": [
    "cvs = cross_val_score(\n",
    "    estimator=model, X=X, y=y, groups=df['case_year_result'], cv=gss, scoring='roc_auc',\n",
    ")\n",
    "print(cvs)\n",
    "print(cvs.mean(), cvs.min())"
   ]
  },
  {
   "cell_type": "code",
   "execution_count": null,
   "id": "59fc6035-641c-4202-bb3e-404f2c241f91",
   "metadata": {},
   "outputs": [],
   "source": [
    "feature_names[:26]"
   ]
  },
  {
   "cell_type": "code",
   "execution_count": null,
   "id": "437bdefe-649e-47fb-8c1b-a5333dc0fb65",
   "metadata": {},
   "outputs": [],
   "source": []
  },
  {
   "cell_type": "code",
   "execution_count": null,
   "id": "818ad17c-efc4-4f53-896d-9fc8595e339f",
   "metadata": {},
   "outputs": [],
   "source": []
  },
  {
   "cell_type": "code",
   "execution_count": null,
   "id": "ab63c1cd-47ca-41b2-941c-b7b423eebb7c",
   "metadata": {},
   "outputs": [],
   "source": [
    "# Labels\n",
    "from sklearn.preprocessing import LabelEncoder\n",
    "\n",
    "punishment_type_le = LabelEncoder()\n",
    "punishment_type_le.classes_ = np.load('label_encoding/punishment_type_le.npy')\n",
    "\n",
    "general_drug_amount_le = LabelEncoder()\n",
    "general_drug_amount_le.classes_ = np.load('label_encoding/general_drug_amount_le.npy')\n",
    "\n",
    "drug_le = LabelEncoder()\n",
    "drug_le.classes_ = np.load('label_encoding/drug_le.npy', drug_le.classes_)\n",
    "\n",
    "general_drug_amount_le = LabelEncoder()\n",
    "general_drug_amount_le.classes = np.load('label_encoding/general_drug_amount_le.npy', general_drug_amount_le.classes_)"
   ]
  },
  {
   "cell_type": "code",
   "execution_count": null,
   "id": "6f689de1-220d-494a-b03a-ee1e67e8c9c9",
   "metadata": {},
   "outputs": [],
   "source": []
  }
 ],
 "metadata": {
  "kernelspec": {
   "display_name": "Python 3 (ipykernel)",
   "language": "python",
   "name": "python3"
  },
  "language_info": {
   "codemirror_mode": {
    "name": "ipython",
    "version": 3
   },
   "file_extension": ".py",
   "mimetype": "text/x-python",
   "name": "python",
   "nbconvert_exporter": "python",
   "pygments_lexer": "ipython3",
   "version": "3.8.10"
  }
 },
 "nbformat": 4,
 "nbformat_minor": 5
}
